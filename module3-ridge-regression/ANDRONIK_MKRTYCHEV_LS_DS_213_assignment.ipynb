{
  "nbformat": 4,
  "nbformat_minor": 0,
  "metadata": {
    "kernelspec": {
      "display_name": "Python 3",
      "language": "python",
      "name": "python3"
    },
    "language_info": {
      "codemirror_mode": {
        "name": "ipython",
        "version": 3
      },
      "file_extension": ".py",
      "mimetype": "text/x-python",
      "name": "python",
      "nbconvert_exporter": "python",
      "pygments_lexer": "ipython3",
      "version": "3.7.3"
    },
    "colab": {
      "name": "ANDRONIK_MKRTYCHEV_LS_DS_213_assignment.ipynb",
      "provenance": [],
      "include_colab_link": true
    }
  },
  "cells": [
    {
      "cell_type": "markdown",
      "metadata": {
        "id": "view-in-github",
        "colab_type": "text"
      },
      "source": [
        "<a href=\"https://colab.research.google.com/github/andronikmk/DS-Unit-2-Linear-Models/blob/master/module3-ridge-regression/ANDRONIK_MKRTYCHEV_LS_DS_213_assignment.ipynb\" target=\"_parent\"><img src=\"https://colab.research.google.com/assets/colab-badge.svg\" alt=\"Open In Colab\"/></a>"
      ]
    },
    {
      "cell_type": "markdown",
      "metadata": {
        "id": "tOEgod_88atg",
        "colab_type": "text"
      },
      "source": [
        "Lambda School Data Science\n",
        "\n",
        "*Unit 2, Sprint 1, Module 3*\n",
        "\n",
        "---"
      ]
    },
    {
      "cell_type": "markdown",
      "metadata": {
        "colab_type": "text",
        "id": "7IXUfiQ2UKj6"
      },
      "source": [
        "# Ridge Regression\n",
        "\n",
        "## Assignment\n",
        "\n",
        "We're going back to our other **New York City** real estate dataset. Instead of predicting apartment rents, you'll predict property sales prices.\n",
        "\n",
        "But not just for condos in Tribeca...\n",
        "\n",
        "- [x] Use a subset of the data where `BUILDING_CLASS_CATEGORY` == `'01 ONE FAMILY DWELLINGS'` and the sale price was more than 100 thousand and less than 2 million.\n",
        "- [x] Do train/test split. Use data from January — March 2019 to train. Use data from April 2019 to test.\n",
        "- [x] Do one-hot encoding of categorical features.\n",
        "- [x] Do feature selection with `SelectKBest`.\n",
        "- [X] Fit a ridge regression model with multiple features. Use the `normalize=True` parameter (or do [feature scaling](https://scikit-learn.org/stable/modules/preprocessing.html) beforehand — use the scaler's `fit_transform` method with the train set, and the scaler's `transform` method with the test set)\n",
        "- [X] Get mean absolute error for the test set.\n",
        "- [X] As always, commit your notebook to your fork of the GitHub repo.\n",
        "\n",
        "The [NYC Department of Finance](https://www1.nyc.gov/site/finance/taxes/property-rolling-sales-data.page) has a glossary of property sales terms and NYC Building Class Code Descriptions. The data comes from the [NYC OpenData](https://data.cityofnewyork.us/browse?q=NYC%20calendar%20sales) portal.\n",
        "\n",
        "\n",
        "## Stretch Goals\n",
        "\n",
        "Don't worry, you aren't expected to do all these stretch goals! These are just ideas to consider and choose from.\n",
        "\n",
        "- [ ] Add your own stretch goal(s) !\n",
        "- [ ] Instead of `Ridge`, try `LinearRegression`. Depending on how many features you select, your errors will probably blow up! 💥\n",
        "- [ ] Instead of `Ridge`, try [`RidgeCV`](https://scikit-learn.org/stable/modules/generated/sklearn.linear_model.RidgeCV.html).\n",
        "- [ ] Learn more about feature selection:\n",
        "    - [\"Permutation importance\"](https://www.kaggle.com/dansbecker/permutation-importance)\n",
        "    - [scikit-learn's User Guide for Feature Selection](https://scikit-learn.org/stable/modules/feature_selection.html)\n",
        "    - [mlxtend](http://rasbt.github.io/mlxtend/) library\n",
        "    - scikit-learn-contrib libraries: [boruta_py](https://github.com/scikit-learn-contrib/boruta_py) & [stability-selection](https://github.com/scikit-learn-contrib/stability-selection)\n",
        "    - [_Feature Engineering and Selection_](http://www.feat.engineering/) by Kuhn & Johnson.\n",
        "- [ ] Try [statsmodels](https://www.statsmodels.org/stable/index.html) if you’re interested in more inferential statistical approach to linear regression and feature selection, looking at p values and 95% confidence intervals for the coefficients.\n",
        "- [ ] Read [_An Introduction to Statistical Learning_](http://faculty.marshall.usc.edu/gareth-james/ISL/ISLR%20Seventh%20Printing.pdf), Chapters 1-3, for more math & theory, but in an accessible, readable way.\n",
        "- [ ] Try [scikit-learn pipelines](https://scikit-learn.org/stable/modules/compose.html)."
      ]
    },
    {
      "cell_type": "code",
      "metadata": {
        "colab_type": "code",
        "id": "o9eSnDYhUGD7",
        "colab": {}
      },
      "source": [
        "%%capture\n",
        "import sys\n",
        "\n",
        "# If you're on Colab:\n",
        "if 'google.colab' in sys.modules:\n",
        "    DATA_PATH = 'https://raw.githubusercontent.com/LambdaSchool/DS-Unit-2-Applied-Modeling/master/data/'\n",
        "    !pip install category_encoders==2.*\n",
        "\n",
        "# If you're working locally:\n",
        "else:\n",
        "    DATA_PATH = '../data/'\n",
        "    \n",
        "# Ignore this Numpy warning when using Plotly Express:\n",
        "# FutureWarning: Method .ptp is deprecated and will be removed in a future version. Use numpy.ptp instead.\n",
        "import warnings\n",
        "warnings.filterwarnings(action='ignore', category=FutureWarning, module='numpy')"
      ],
      "execution_count": 0,
      "outputs": []
    },
    {
      "cell_type": "code",
      "metadata": {
        "colab_type": "code",
        "id": "QJBD4ruICm1m",
        "colab": {}
      },
      "source": [
        "import pandas as pd\n",
        "import numpy as np\n",
        "import pandas_profiling\n",
        "\n",
        "# Read New York City property sales data\n",
        "df = pd.read_csv(DATA_PATH+'condos/NYC_Citywide_Rolling_Calendar_Sales.csv')\n",
        "\n",
        "# Change column names: replace spaces with underscores\n",
        "df.columns = [col.replace(' ', '_') for col in df]\n",
        "\n",
        "# SALE_PRICE was read as strings.\n",
        "# Remove symbols, convert to integer\n",
        "df['SALE_PRICE'] = (\n",
        "    df['SALE_PRICE']\n",
        "    .str.replace('$','')\n",
        "    .str.replace('-','')\n",
        "    .str.replace(',','')\n",
        "    .astype(int)\n",
        ")"
      ],
      "execution_count": 0,
      "outputs": []
    },
    {
      "cell_type": "code",
      "metadata": {
        "id": "1-xenKsV8atv",
        "colab_type": "code",
        "colab": {}
      },
      "source": [
        "# BOROUGH is a numeric column, but arguably should be a categorical feature,\n",
        "# so convert it from a number to a string\n",
        "df['BOROUGH'] = df['BOROUGH'].astype(str)"
      ],
      "execution_count": 0,
      "outputs": []
    },
    {
      "cell_type": "code",
      "metadata": {
        "id": "8Z7PfaSN8at0",
        "colab_type": "code",
        "colab": {}
      },
      "source": [
        "# Reduce cardinality for NEIGHBORHOOD feature\n",
        "# Get a list of the top 10 neighborhoods\n",
        "top10 = df['NEIGHBORHOOD'].value_counts()[:10].index\n",
        "\n",
        "# At locations where the neighborhood is NOT in the top 10, \n",
        "# replace the neighborhood with 'OTHER'\n",
        "df.loc[~df['NEIGHBORHOOD'].isin(top10), 'NEIGHBORHOOD'] = 'OTHER'"
      ],
      "execution_count": 0,
      "outputs": []
    },
    {
      "cell_type": "code",
      "metadata": {
        "id": "2IVyIicesreA",
        "colab_type": "code",
        "colab": {
          "base_uri": "https://localhost:8080/",
          "height": 836
        },
        "outputId": "baa5627f-f937-4e93-dd6b-da982fe7e228"
      },
      "source": [
        "df"
      ],
      "execution_count": 167,
      "outputs": [
        {
          "output_type": "execute_result",
          "data": {
            "text/html": [
              "<div>\n",
              "<style scoped>\n",
              "    .dataframe tbody tr th:only-of-type {\n",
              "        vertical-align: middle;\n",
              "    }\n",
              "\n",
              "    .dataframe tbody tr th {\n",
              "        vertical-align: top;\n",
              "    }\n",
              "\n",
              "    .dataframe thead th {\n",
              "        text-align: right;\n",
              "    }\n",
              "</style>\n",
              "<table border=\"1\" class=\"dataframe\">\n",
              "  <thead>\n",
              "    <tr style=\"text-align: right;\">\n",
              "      <th></th>\n",
              "      <th>BOROUGH</th>\n",
              "      <th>NEIGHBORHOOD</th>\n",
              "      <th>BUILDING_CLASS_CATEGORY</th>\n",
              "      <th>TAX_CLASS_AT_PRESENT</th>\n",
              "      <th>BLOCK</th>\n",
              "      <th>LOT</th>\n",
              "      <th>EASE-MENT</th>\n",
              "      <th>BUILDING_CLASS_AT_PRESENT</th>\n",
              "      <th>ADDRESS</th>\n",
              "      <th>APARTMENT_NUMBER</th>\n",
              "      <th>ZIP_CODE</th>\n",
              "      <th>RESIDENTIAL_UNITS</th>\n",
              "      <th>COMMERCIAL_UNITS</th>\n",
              "      <th>TOTAL_UNITS</th>\n",
              "      <th>LAND_SQUARE_FEET</th>\n",
              "      <th>GROSS_SQUARE_FEET</th>\n",
              "      <th>YEAR_BUILT</th>\n",
              "      <th>TAX_CLASS_AT_TIME_OF_SALE</th>\n",
              "      <th>BUILDING_CLASS_AT_TIME_OF_SALE</th>\n",
              "      <th>SALE_PRICE</th>\n",
              "      <th>SALE_DATE</th>\n",
              "    </tr>\n",
              "  </thead>\n",
              "  <tbody>\n",
              "    <tr>\n",
              "      <th>0</th>\n",
              "      <td>1</td>\n",
              "      <td>OTHER</td>\n",
              "      <td>13 CONDOS - ELEVATOR APARTMENTS</td>\n",
              "      <td>2</td>\n",
              "      <td>716</td>\n",
              "      <td>1246</td>\n",
              "      <td>NaN</td>\n",
              "      <td>R4</td>\n",
              "      <td>447 WEST 18TH STREET, PH12A</td>\n",
              "      <td>PH12A</td>\n",
              "      <td>10011.0</td>\n",
              "      <td>1.0</td>\n",
              "      <td>0.0</td>\n",
              "      <td>1.0</td>\n",
              "      <td>10,733</td>\n",
              "      <td>1979.0</td>\n",
              "      <td>2007.0</td>\n",
              "      <td>2</td>\n",
              "      <td>R4</td>\n",
              "      <td>0</td>\n",
              "      <td>01/01/2019</td>\n",
              "    </tr>\n",
              "    <tr>\n",
              "      <th>1</th>\n",
              "      <td>1</td>\n",
              "      <td>OTHER</td>\n",
              "      <td>21 OFFICE BUILDINGS</td>\n",
              "      <td>4</td>\n",
              "      <td>812</td>\n",
              "      <td>68</td>\n",
              "      <td>NaN</td>\n",
              "      <td>O5</td>\n",
              "      <td>144 WEST 37TH STREET</td>\n",
              "      <td>NaN</td>\n",
              "      <td>10018.0</td>\n",
              "      <td>0.0</td>\n",
              "      <td>6.0</td>\n",
              "      <td>6.0</td>\n",
              "      <td>2,962</td>\n",
              "      <td>15435.0</td>\n",
              "      <td>1920.0</td>\n",
              "      <td>4</td>\n",
              "      <td>O5</td>\n",
              "      <td>0</td>\n",
              "      <td>01/01/2019</td>\n",
              "    </tr>\n",
              "    <tr>\n",
              "      <th>2</th>\n",
              "      <td>1</td>\n",
              "      <td>OTHER</td>\n",
              "      <td>21 OFFICE BUILDINGS</td>\n",
              "      <td>4</td>\n",
              "      <td>839</td>\n",
              "      <td>69</td>\n",
              "      <td>NaN</td>\n",
              "      <td>O5</td>\n",
              "      <td>40 WEST 38TH STREET</td>\n",
              "      <td>NaN</td>\n",
              "      <td>10018.0</td>\n",
              "      <td>0.0</td>\n",
              "      <td>7.0</td>\n",
              "      <td>7.0</td>\n",
              "      <td>2,074</td>\n",
              "      <td>11332.0</td>\n",
              "      <td>1930.0</td>\n",
              "      <td>4</td>\n",
              "      <td>O5</td>\n",
              "      <td>0</td>\n",
              "      <td>01/01/2019</td>\n",
              "    </tr>\n",
              "    <tr>\n",
              "      <th>3</th>\n",
              "      <td>1</td>\n",
              "      <td>OTHER</td>\n",
              "      <td>13 CONDOS - ELEVATOR APARTMENTS</td>\n",
              "      <td>2</td>\n",
              "      <td>592</td>\n",
              "      <td>1041</td>\n",
              "      <td>NaN</td>\n",
              "      <td>R4</td>\n",
              "      <td>1 SHERIDAN SQUARE, 8C</td>\n",
              "      <td>8C</td>\n",
              "      <td>10014.0</td>\n",
              "      <td>1.0</td>\n",
              "      <td>0.0</td>\n",
              "      <td>1.0</td>\n",
              "      <td>0</td>\n",
              "      <td>500.0</td>\n",
              "      <td>0.0</td>\n",
              "      <td>2</td>\n",
              "      <td>R4</td>\n",
              "      <td>0</td>\n",
              "      <td>01/01/2019</td>\n",
              "    </tr>\n",
              "    <tr>\n",
              "      <th>4</th>\n",
              "      <td>1</td>\n",
              "      <td>UPPER EAST SIDE (59-79)</td>\n",
              "      <td>15 CONDOS - 2-10 UNIT RESIDENTIAL</td>\n",
              "      <td>2C</td>\n",
              "      <td>1379</td>\n",
              "      <td>1402</td>\n",
              "      <td>NaN</td>\n",
              "      <td>R1</td>\n",
              "      <td>20 EAST 65TH STREET, B</td>\n",
              "      <td>B</td>\n",
              "      <td>10065.0</td>\n",
              "      <td>1.0</td>\n",
              "      <td>0.0</td>\n",
              "      <td>1.0</td>\n",
              "      <td>0</td>\n",
              "      <td>6406.0</td>\n",
              "      <td>0.0</td>\n",
              "      <td>2</td>\n",
              "      <td>R1</td>\n",
              "      <td>0</td>\n",
              "      <td>01/01/2019</td>\n",
              "    </tr>\n",
              "    <tr>\n",
              "      <th>...</th>\n",
              "      <td>...</td>\n",
              "      <td>...</td>\n",
              "      <td>...</td>\n",
              "      <td>...</td>\n",
              "      <td>...</td>\n",
              "      <td>...</td>\n",
              "      <td>...</td>\n",
              "      <td>...</td>\n",
              "      <td>...</td>\n",
              "      <td>...</td>\n",
              "      <td>...</td>\n",
              "      <td>...</td>\n",
              "      <td>...</td>\n",
              "      <td>...</td>\n",
              "      <td>...</td>\n",
              "      <td>...</td>\n",
              "      <td>...</td>\n",
              "      <td>...</td>\n",
              "      <td>...</td>\n",
              "      <td>...</td>\n",
              "      <td>...</td>\n",
              "    </tr>\n",
              "    <tr>\n",
              "      <th>23035</th>\n",
              "      <td>4</td>\n",
              "      <td>OTHER</td>\n",
              "      <td>01 ONE FAMILY DWELLINGS</td>\n",
              "      <td>1</td>\n",
              "      <td>10965</td>\n",
              "      <td>276</td>\n",
              "      <td>NaN</td>\n",
              "      <td>A5</td>\n",
              "      <td>111-17 FRANCIS LEWIS BLVD</td>\n",
              "      <td>NaN</td>\n",
              "      <td>11429.0</td>\n",
              "      <td>1.0</td>\n",
              "      <td>0.0</td>\n",
              "      <td>1.0</td>\n",
              "      <td>1,800</td>\n",
              "      <td>1224.0</td>\n",
              "      <td>1945.0</td>\n",
              "      <td>1</td>\n",
              "      <td>A5</td>\n",
              "      <td>510000</td>\n",
              "      <td>04/30/2019</td>\n",
              "    </tr>\n",
              "    <tr>\n",
              "      <th>23036</th>\n",
              "      <td>4</td>\n",
              "      <td>OTHER</td>\n",
              "      <td>09 COOPS - WALKUP APARTMENTS</td>\n",
              "      <td>2</td>\n",
              "      <td>169</td>\n",
              "      <td>29</td>\n",
              "      <td>NaN</td>\n",
              "      <td>C6</td>\n",
              "      <td>45-14 43RD STREET, 3C</td>\n",
              "      <td>NaN</td>\n",
              "      <td>11104.0</td>\n",
              "      <td>0.0</td>\n",
              "      <td>0.0</td>\n",
              "      <td>0.0</td>\n",
              "      <td>0</td>\n",
              "      <td>0.0</td>\n",
              "      <td>1929.0</td>\n",
              "      <td>2</td>\n",
              "      <td>C6</td>\n",
              "      <td>355000</td>\n",
              "      <td>04/30/2019</td>\n",
              "    </tr>\n",
              "    <tr>\n",
              "      <th>23037</th>\n",
              "      <td>4</td>\n",
              "      <td>OTHER</td>\n",
              "      <td>10 COOPS - ELEVATOR APARTMENTS</td>\n",
              "      <td>2</td>\n",
              "      <td>131</td>\n",
              "      <td>4</td>\n",
              "      <td>NaN</td>\n",
              "      <td>D4</td>\n",
              "      <td>50-05 43RD AVENUE, 3M</td>\n",
              "      <td>NaN</td>\n",
              "      <td>11377.0</td>\n",
              "      <td>0.0</td>\n",
              "      <td>0.0</td>\n",
              "      <td>0.0</td>\n",
              "      <td>0</td>\n",
              "      <td>0.0</td>\n",
              "      <td>1932.0</td>\n",
              "      <td>2</td>\n",
              "      <td>D4</td>\n",
              "      <td>375000</td>\n",
              "      <td>04/30/2019</td>\n",
              "    </tr>\n",
              "    <tr>\n",
              "      <th>23038</th>\n",
              "      <td>4</td>\n",
              "      <td>OTHER</td>\n",
              "      <td>02 TWO FAMILY DWELLINGS</td>\n",
              "      <td>1</td>\n",
              "      <td>8932</td>\n",
              "      <td>18</td>\n",
              "      <td>NaN</td>\n",
              "      <td>S2</td>\n",
              "      <td>91-10 JAMAICA AVE</td>\n",
              "      <td>NaN</td>\n",
              "      <td>11421.0</td>\n",
              "      <td>2.0</td>\n",
              "      <td>1.0</td>\n",
              "      <td>3.0</td>\n",
              "      <td>2,078</td>\n",
              "      <td>2200.0</td>\n",
              "      <td>1931.0</td>\n",
              "      <td>1</td>\n",
              "      <td>S2</td>\n",
              "      <td>1100000</td>\n",
              "      <td>04/30/2019</td>\n",
              "    </tr>\n",
              "    <tr>\n",
              "      <th>23039</th>\n",
              "      <td>4</td>\n",
              "      <td>OTHER</td>\n",
              "      <td>12 CONDOS - WALKUP APARTMENTS</td>\n",
              "      <td>2</td>\n",
              "      <td>1216</td>\n",
              "      <td>1161</td>\n",
              "      <td>NaN</td>\n",
              "      <td>R2</td>\n",
              "      <td>61-05 39TH AVENUE, F5</td>\n",
              "      <td>F5</td>\n",
              "      <td>11377.0</td>\n",
              "      <td>1.0</td>\n",
              "      <td>0.0</td>\n",
              "      <td>85.0</td>\n",
              "      <td>15,151</td>\n",
              "      <td>854.0</td>\n",
              "      <td>1927.0</td>\n",
              "      <td>2</td>\n",
              "      <td>R2</td>\n",
              "      <td>569202</td>\n",
              "      <td>04/30/2019</td>\n",
              "    </tr>\n",
              "  </tbody>\n",
              "</table>\n",
              "<p>23040 rows × 21 columns</p>\n",
              "</div>"
            ],
            "text/plain": [
              "      BOROUGH             NEIGHBORHOOD  ... SALE_PRICE   SALE_DATE\n",
              "0           1                    OTHER  ...          0  01/01/2019\n",
              "1           1                    OTHER  ...          0  01/01/2019\n",
              "2           1                    OTHER  ...          0  01/01/2019\n",
              "3           1                    OTHER  ...          0  01/01/2019\n",
              "4           1  UPPER EAST SIDE (59-79)  ...          0  01/01/2019\n",
              "...       ...                      ...  ...        ...         ...\n",
              "23035       4                    OTHER  ...     510000  04/30/2019\n",
              "23036       4                    OTHER  ...     355000  04/30/2019\n",
              "23037       4                    OTHER  ...     375000  04/30/2019\n",
              "23038       4                    OTHER  ...    1100000  04/30/2019\n",
              "23039       4                    OTHER  ...     569202  04/30/2019\n",
              "\n",
              "[23040 rows x 21 columns]"
            ]
          },
          "metadata": {
            "tags": []
          },
          "execution_count": 167
        }
      ]
    },
    {
      "cell_type": "markdown",
      "metadata": {
        "id": "rDRu_VwWDwQs",
        "colab_type": "text"
      },
      "source": [
        "### Do train/test split. Use data from January — March 2019 to train. Use data from April 2019 to test.###"
      ]
    },
    {
      "cell_type": "code",
      "metadata": {
        "id": "PnVMdhgs-8gN",
        "colab_type": "code",
        "outputId": "2db629dd-4fe7-463f-e099-3352267b5cd3",
        "colab": {
          "base_uri": "https://localhost:8080/",
          "height": 130
        }
      },
      "source": [
        "df['SALE_DATE'] = pd.to_datetime(df['SALE_DATE'], infer_datetime_format=True)\n",
        "df['SALE_DATE'].describe()"
      ],
      "execution_count": 168,
      "outputs": [
        {
          "output_type": "execute_result",
          "data": {
            "text/plain": [
              "count                   23040\n",
              "unique                    120\n",
              "top       2019-01-24 00:00:00\n",
              "freq                      480\n",
              "first     2019-01-01 00:00:00\n",
              "last      2019-04-30 00:00:00\n",
              "Name: SALE_DATE, dtype: object"
            ]
          },
          "metadata": {
            "tags": []
          },
          "execution_count": 168
        }
      ]
    },
    {
      "cell_type": "code",
      "metadata": {
        "id": "KF23RPfC_sg3",
        "colab_type": "code",
        "outputId": "01ce12bc-8733-4d7a-c57b-b930805275f9",
        "colab": {
          "base_uri": "https://localhost:8080/",
          "height": 98
        }
      },
      "source": [
        "df['SALE_DATE'].dt.month.value_counts()"
      ],
      "execution_count": 169,
      "outputs": [
        {
          "output_type": "execute_result",
          "data": {
            "text/plain": [
              "1    6464\n",
              "3    6105\n",
              "2    5598\n",
              "4    4873\n",
              "Name: SALE_DATE, dtype: int64"
            ]
          },
          "metadata": {
            "tags": []
          },
          "execution_count": 169
        }
      ]
    },
    {
      "cell_type": "code",
      "metadata": {
        "id": "jFhqTHLC_7oA",
        "colab_type": "code",
        "colab": {}
      },
      "source": [
        "train = df[(df.SALE_DATE.dt.month >= 1) & (df.SALE_DATE.dt.month <= 3)]"
      ],
      "execution_count": 0,
      "outputs": []
    },
    {
      "cell_type": "code",
      "metadata": {
        "id": "YjczganrAIKC",
        "colab_type": "code",
        "colab": {}
      },
      "source": [
        "test = df[df.SALE_DATE.dt.month == 4]"
      ],
      "execution_count": 0,
      "outputs": []
    },
    {
      "cell_type": "code",
      "metadata": {
        "id": "5shEIcRExCDE",
        "colab_type": "code",
        "colab": {}
      },
      "source": [
        "train = train.drop(columns='EASE-MENT')"
      ],
      "execution_count": 0,
      "outputs": []
    },
    {
      "cell_type": "code",
      "metadata": {
        "id": "JgID9MH6xbmj",
        "colab_type": "code",
        "colab": {}
      },
      "source": [
        "test = test.drop(columns='EASE-MENT')"
      ],
      "execution_count": 0,
      "outputs": []
    },
    {
      "cell_type": "code",
      "metadata": {
        "id": "TdLA4pCwtUaw",
        "colab_type": "code",
        "colab": {}
      },
      "source": [
        "train = train.dropna()\n",
        "test = test.dropna()"
      ],
      "execution_count": 0,
      "outputs": []
    },
    {
      "cell_type": "code",
      "metadata": {
        "id": "CWCOuRm_tiB_",
        "colab_type": "code",
        "colab": {
          "base_uri": "https://localhost:8080/",
          "height": 354
        },
        "outputId": "013fd687-22f3-47bd-f44d-bc0c39ca1691"
      },
      "source": [
        "train.isnull().sum()"
      ],
      "execution_count": 175,
      "outputs": [
        {
          "output_type": "execute_result",
          "data": {
            "text/plain": [
              "BOROUGH                           0\n",
              "NEIGHBORHOOD                      0\n",
              "BUILDING_CLASS_CATEGORY           0\n",
              "TAX_CLASS_AT_PRESENT              0\n",
              "BLOCK                             0\n",
              "LOT                               0\n",
              "BUILDING_CLASS_AT_PRESENT         0\n",
              "ADDRESS                           0\n",
              "APARTMENT_NUMBER                  0\n",
              "ZIP_CODE                          0\n",
              "RESIDENTIAL_UNITS                 0\n",
              "COMMERCIAL_UNITS                  0\n",
              "TOTAL_UNITS                       0\n",
              "LAND_SQUARE_FEET                  0\n",
              "GROSS_SQUARE_FEET                 0\n",
              "YEAR_BUILT                        0\n",
              "TAX_CLASS_AT_TIME_OF_SALE         0\n",
              "BUILDING_CLASS_AT_TIME_OF_SALE    0\n",
              "SALE_PRICE                        0\n",
              "SALE_DATE                         0\n",
              "dtype: int64"
            ]
          },
          "metadata": {
            "tags": []
          },
          "execution_count": 175
        }
      ]
    },
    {
      "cell_type": "code",
      "metadata": {
        "id": "Ku96IXl7tm_v",
        "colab_type": "code",
        "colab": {
          "base_uri": "https://localhost:8080/",
          "height": 354
        },
        "outputId": "9497fa21-0cab-417a-b0a9-cd0b54c0c437"
      },
      "source": [
        "test.isnull().sum()"
      ],
      "execution_count": 176,
      "outputs": [
        {
          "output_type": "execute_result",
          "data": {
            "text/plain": [
              "BOROUGH                           0\n",
              "NEIGHBORHOOD                      0\n",
              "BUILDING_CLASS_CATEGORY           0\n",
              "TAX_CLASS_AT_PRESENT              0\n",
              "BLOCK                             0\n",
              "LOT                               0\n",
              "BUILDING_CLASS_AT_PRESENT         0\n",
              "ADDRESS                           0\n",
              "APARTMENT_NUMBER                  0\n",
              "ZIP_CODE                          0\n",
              "RESIDENTIAL_UNITS                 0\n",
              "COMMERCIAL_UNITS                  0\n",
              "TOTAL_UNITS                       0\n",
              "LAND_SQUARE_FEET                  0\n",
              "GROSS_SQUARE_FEET                 0\n",
              "YEAR_BUILT                        0\n",
              "TAX_CLASS_AT_TIME_OF_SALE         0\n",
              "BUILDING_CLASS_AT_TIME_OF_SALE    0\n",
              "SALE_PRICE                        0\n",
              "SALE_DATE                         0\n",
              "dtype: int64"
            ]
          },
          "metadata": {
            "tags": []
          },
          "execution_count": 176
        }
      ]
    },
    {
      "cell_type": "code",
      "metadata": {
        "id": "pr2JCdfK0_JJ",
        "colab_type": "code",
        "colab": {
          "base_uri": "https://localhost:8080/",
          "height": 34
        },
        "outputId": "20d4e0e3-d4b5-477c-f540-038d09388f55"
      },
      "source": [
        "train.shape, test.shape"
      ],
      "execution_count": 177,
      "outputs": [
        {
          "output_type": "execute_result",
          "data": {
            "text/plain": [
              "((3940, 20), (1176, 20))"
            ]
          },
          "metadata": {
            "tags": []
          },
          "execution_count": 177
        }
      ]
    },
    {
      "cell_type": "markdown",
      "metadata": {
        "id": "gHI28mP1Dnmr",
        "colab_type": "text"
      },
      "source": [
        "###Do one-hot encoding of categorical features.###"
      ]
    },
    {
      "cell_type": "code",
      "metadata": {
        "id": "aaUBHwErCsn4",
        "colab_type": "code",
        "outputId": "8ab61f45-7225-47d0-e96f-9d625f89566f",
        "colab": {
          "base_uri": "https://localhost:8080/",
          "height": 328
        }
      },
      "source": [
        "# column numerics (exploring data)\n",
        "train.select_dtypes(include='number').describe().T"
      ],
      "execution_count": 178,
      "outputs": [
        {
          "output_type": "execute_result",
          "data": {
            "text/html": [
              "<div>\n",
              "<style scoped>\n",
              "    .dataframe tbody tr th:only-of-type {\n",
              "        vertical-align: middle;\n",
              "    }\n",
              "\n",
              "    .dataframe tbody tr th {\n",
              "        vertical-align: top;\n",
              "    }\n",
              "\n",
              "    .dataframe thead th {\n",
              "        text-align: right;\n",
              "    }\n",
              "</style>\n",
              "<table border=\"1\" class=\"dataframe\">\n",
              "  <thead>\n",
              "    <tr style=\"text-align: right;\">\n",
              "      <th></th>\n",
              "      <th>count</th>\n",
              "      <th>mean</th>\n",
              "      <th>std</th>\n",
              "      <th>min</th>\n",
              "      <th>25%</th>\n",
              "      <th>50%</th>\n",
              "      <th>75%</th>\n",
              "      <th>max</th>\n",
              "    </tr>\n",
              "  </thead>\n",
              "  <tbody>\n",
              "    <tr>\n",
              "      <th>BLOCK</th>\n",
              "      <td>3940.0</td>\n",
              "      <td>2.487269e+03</td>\n",
              "      <td>2.540336e+03</td>\n",
              "      <td>1.0</td>\n",
              "      <td>878.0</td>\n",
              "      <td>1446.0</td>\n",
              "      <td>3402.75</td>\n",
              "      <td>16234.0</td>\n",
              "    </tr>\n",
              "    <tr>\n",
              "      <th>LOT</th>\n",
              "      <td>3940.0</td>\n",
              "      <td>1.262651e+03</td>\n",
              "      <td>6.274599e+02</td>\n",
              "      <td>1.0</td>\n",
              "      <td>1032.0</td>\n",
              "      <td>1117.0</td>\n",
              "      <td>1305.00</td>\n",
              "      <td>9022.0</td>\n",
              "    </tr>\n",
              "    <tr>\n",
              "      <th>ZIP_CODE</th>\n",
              "      <td>3940.0</td>\n",
              "      <td>1.063671e+04</td>\n",
              "      <td>6.471155e+02</td>\n",
              "      <td>0.0</td>\n",
              "      <td>10019.0</td>\n",
              "      <td>10462.0</td>\n",
              "      <td>11222.00</td>\n",
              "      <td>11694.0</td>\n",
              "    </tr>\n",
              "    <tr>\n",
              "      <th>RESIDENTIAL_UNITS</th>\n",
              "      <td>3940.0</td>\n",
              "      <td>1.493401e+00</td>\n",
              "      <td>8.702333e+00</td>\n",
              "      <td>0.0</td>\n",
              "      <td>1.0</td>\n",
              "      <td>1.0</td>\n",
              "      <td>1.00</td>\n",
              "      <td>428.0</td>\n",
              "    </tr>\n",
              "    <tr>\n",
              "      <th>COMMERCIAL_UNITS</th>\n",
              "      <td>3940.0</td>\n",
              "      <td>6.137056e-01</td>\n",
              "      <td>8.323585e+00</td>\n",
              "      <td>-1.0</td>\n",
              "      <td>0.0</td>\n",
              "      <td>0.0</td>\n",
              "      <td>0.00</td>\n",
              "      <td>313.0</td>\n",
              "    </tr>\n",
              "    <tr>\n",
              "      <th>TOTAL_UNITS</th>\n",
              "      <td>3940.0</td>\n",
              "      <td>2.806853e+00</td>\n",
              "      <td>1.383706e+01</td>\n",
              "      <td>0.0</td>\n",
              "      <td>1.0</td>\n",
              "      <td>1.0</td>\n",
              "      <td>1.00</td>\n",
              "      <td>428.0</td>\n",
              "    </tr>\n",
              "    <tr>\n",
              "      <th>GROSS_SQUARE_FEET</th>\n",
              "      <td>3940.0</td>\n",
              "      <td>3.554246e+03</td>\n",
              "      <td>1.649318e+04</td>\n",
              "      <td>0.0</td>\n",
              "      <td>649.0</td>\n",
              "      <td>949.0</td>\n",
              "      <td>1432.25</td>\n",
              "      <td>349126.0</td>\n",
              "    </tr>\n",
              "    <tr>\n",
              "      <th>YEAR_BUILT</th>\n",
              "      <td>3940.0</td>\n",
              "      <td>1.590241e+03</td>\n",
              "      <td>7.902565e+02</td>\n",
              "      <td>0.0</td>\n",
              "      <td>1913.0</td>\n",
              "      <td>1985.0</td>\n",
              "      <td>2009.00</td>\n",
              "      <td>2018.0</td>\n",
              "    </tr>\n",
              "    <tr>\n",
              "      <th>TAX_CLASS_AT_TIME_OF_SALE</th>\n",
              "      <td>3940.0</td>\n",
              "      <td>2.188325e+00</td>\n",
              "      <td>7.374684e-01</td>\n",
              "      <td>1.0</td>\n",
              "      <td>2.0</td>\n",
              "      <td>2.0</td>\n",
              "      <td>2.00</td>\n",
              "      <td>4.0</td>\n",
              "    </tr>\n",
              "    <tr>\n",
              "      <th>SALE_PRICE</th>\n",
              "      <td>3940.0</td>\n",
              "      <td>1.654465e+06</td>\n",
              "      <td>7.255767e+06</td>\n",
              "      <td>0.0</td>\n",
              "      <td>0.0</td>\n",
              "      <td>615000.0</td>\n",
              "      <td>1325000.00</td>\n",
              "      <td>239958219.0</td>\n",
              "    </tr>\n",
              "  </tbody>\n",
              "</table>\n",
              "</div>"
            ],
            "text/plain": [
              "                            count          mean  ...         75%          max\n",
              "BLOCK                      3940.0  2.487269e+03  ...     3402.75      16234.0\n",
              "LOT                        3940.0  1.262651e+03  ...     1305.00       9022.0\n",
              "ZIP_CODE                   3940.0  1.063671e+04  ...    11222.00      11694.0\n",
              "RESIDENTIAL_UNITS          3940.0  1.493401e+00  ...        1.00        428.0\n",
              "COMMERCIAL_UNITS           3940.0  6.137056e-01  ...        0.00        313.0\n",
              "TOTAL_UNITS                3940.0  2.806853e+00  ...        1.00        428.0\n",
              "GROSS_SQUARE_FEET          3940.0  3.554246e+03  ...     1432.25     349126.0\n",
              "YEAR_BUILT                 3940.0  1.590241e+03  ...     2009.00       2018.0\n",
              "TAX_CLASS_AT_TIME_OF_SALE  3940.0  2.188325e+00  ...        2.00          4.0\n",
              "SALE_PRICE                 3940.0  1.654465e+06  ...  1325000.00  239958219.0\n",
              "\n",
              "[10 rows x 8 columns]"
            ]
          },
          "metadata": {
            "tags": []
          },
          "execution_count": 178
        }
      ]
    },
    {
      "cell_type": "code",
      "metadata": {
        "id": "eRNIthyJDaVh",
        "colab_type": "code",
        "outputId": "0495d275-75ce-4f74-f0f6-a2b582c8ddd9",
        "colab": {
          "base_uri": "https://localhost:8080/",
          "height": 328
        }
      },
      "source": [
        "# column numberics exclude numbers\n",
        "# What are the catagories with high cardinality?\n",
        "train.describe(exclude='number').T.sort_values(by='unique')"
      ],
      "execution_count": 179,
      "outputs": [
        {
          "output_type": "execute_result",
          "data": {
            "text/html": [
              "<div>\n",
              "<style scoped>\n",
              "    .dataframe tbody tr th:only-of-type {\n",
              "        vertical-align: middle;\n",
              "    }\n",
              "\n",
              "    .dataframe tbody tr th {\n",
              "        vertical-align: top;\n",
              "    }\n",
              "\n",
              "    .dataframe thead th {\n",
              "        text-align: right;\n",
              "    }\n",
              "</style>\n",
              "<table border=\"1\" class=\"dataframe\">\n",
              "  <thead>\n",
              "    <tr style=\"text-align: right;\">\n",
              "      <th></th>\n",
              "      <th>count</th>\n",
              "      <th>unique</th>\n",
              "      <th>top</th>\n",
              "      <th>freq</th>\n",
              "      <th>first</th>\n",
              "      <th>last</th>\n",
              "    </tr>\n",
              "  </thead>\n",
              "  <tbody>\n",
              "    <tr>\n",
              "      <th>BOROUGH</th>\n",
              "      <td>3940</td>\n",
              "      <td>5</td>\n",
              "      <td>1</td>\n",
              "      <td>1797</td>\n",
              "      <td>NaT</td>\n",
              "      <td>NaT</td>\n",
              "    </tr>\n",
              "    <tr>\n",
              "      <th>TAX_CLASS_AT_PRESENT</th>\n",
              "      <td>3940</td>\n",
              "      <td>8</td>\n",
              "      <td>2</td>\n",
              "      <td>2741</td>\n",
              "      <td>NaT</td>\n",
              "      <td>NaT</td>\n",
              "    </tr>\n",
              "    <tr>\n",
              "      <th>NEIGHBORHOOD</th>\n",
              "      <td>3940</td>\n",
              "      <td>11</td>\n",
              "      <td>OTHER</td>\n",
              "      <td>2852</td>\n",
              "      <td>NaT</td>\n",
              "      <td>NaT</td>\n",
              "    </tr>\n",
              "    <tr>\n",
              "      <th>BUILDING_CLASS_CATEGORY</th>\n",
              "      <td>3940</td>\n",
              "      <td>22</td>\n",
              "      <td>13 CONDOS - ELEVATOR APARTMENTS</td>\n",
              "      <td>2529</td>\n",
              "      <td>NaT</td>\n",
              "      <td>NaT</td>\n",
              "    </tr>\n",
              "    <tr>\n",
              "      <th>BUILDING_CLASS_AT_PRESENT</th>\n",
              "      <td>3940</td>\n",
              "      <td>36</td>\n",
              "      <td>R4</td>\n",
              "      <td>2529</td>\n",
              "      <td>NaT</td>\n",
              "      <td>NaT</td>\n",
              "    </tr>\n",
              "    <tr>\n",
              "      <th>BUILDING_CLASS_AT_TIME_OF_SALE</th>\n",
              "      <td>3940</td>\n",
              "      <td>36</td>\n",
              "      <td>R4</td>\n",
              "      <td>2529</td>\n",
              "      <td>NaT</td>\n",
              "      <td>NaT</td>\n",
              "    </tr>\n",
              "    <tr>\n",
              "      <th>SALE_DATE</th>\n",
              "      <td>3940</td>\n",
              "      <td>83</td>\n",
              "      <td>2019-01-24 00:00:00</td>\n",
              "      <td>219</td>\n",
              "      <td>2019-01-01</td>\n",
              "      <td>2019-03-31</td>\n",
              "    </tr>\n",
              "    <tr>\n",
              "      <th>LAND_SQUARE_FEET</th>\n",
              "      <td>3940</td>\n",
              "      <td>618</td>\n",
              "      <td>0</td>\n",
              "      <td>2295</td>\n",
              "      <td>NaT</td>\n",
              "      <td>NaT</td>\n",
              "    </tr>\n",
              "    <tr>\n",
              "      <th>APARTMENT_NUMBER</th>\n",
              "      <td>3940</td>\n",
              "      <td>1448</td>\n",
              "      <td>4</td>\n",
              "      <td>81</td>\n",
              "      <td>NaT</td>\n",
              "      <td>NaT</td>\n",
              "    </tr>\n",
              "    <tr>\n",
              "      <th>ADDRESS</th>\n",
              "      <td>3940</td>\n",
              "      <td>3887</td>\n",
              "      <td>1335 AVENUE OF THE AMERICAS, HU2</td>\n",
              "      <td>3</td>\n",
              "      <td>NaT</td>\n",
              "      <td>NaT</td>\n",
              "    </tr>\n",
              "  </tbody>\n",
              "</table>\n",
              "</div>"
            ],
            "text/plain": [
              "                               count unique  ...      first       last\n",
              "BOROUGH                         3940      5  ...        NaT        NaT\n",
              "TAX_CLASS_AT_PRESENT            3940      8  ...        NaT        NaT\n",
              "NEIGHBORHOOD                    3940     11  ...        NaT        NaT\n",
              "BUILDING_CLASS_CATEGORY         3940     22  ...        NaT        NaT\n",
              "BUILDING_CLASS_AT_PRESENT       3940     36  ...        NaT        NaT\n",
              "BUILDING_CLASS_AT_TIME_OF_SALE  3940     36  ...        NaT        NaT\n",
              "SALE_DATE                       3940     83  ... 2019-01-01 2019-03-31\n",
              "LAND_SQUARE_FEET                3940    618  ...        NaT        NaT\n",
              "APARTMENT_NUMBER                3940   1448  ...        NaT        NaT\n",
              "ADDRESS                         3940   3887  ...        NaT        NaT\n",
              "\n",
              "[10 rows x 6 columns]"
            ]
          },
          "metadata": {
            "tags": []
          },
          "execution_count": 179
        }
      ]
    },
    {
      "cell_type": "code",
      "metadata": {
        "id": "Sa7iijcBEFQg",
        "colab_type": "code",
        "outputId": "3c32a6ee-2b7f-4f25-b74d-9d0e4fbaa16d",
        "colab": {
          "base_uri": "https://localhost:8080/",
          "height": 114
        }
      },
      "source": [
        "# Relationship Borough and Price\n",
        "train['BOROUGH'].value_counts()"
      ],
      "execution_count": 180,
      "outputs": [
        {
          "output_type": "execute_result",
          "data": {
            "text/plain": [
              "1    1797\n",
              "3    1241\n",
              "4     656\n",
              "2     151\n",
              "5      95\n",
              "Name: BOROUGH, dtype: int64"
            ]
          },
          "metadata": {
            "tags": []
          },
          "execution_count": 180
        }
      ]
    },
    {
      "cell_type": "code",
      "metadata": {
        "id": "z8h29AO4FZTP",
        "colab_type": "code",
        "outputId": "cb120269-f266-4e47-d4f0-a45769d63c5e",
        "colab": {
          "base_uri": "https://localhost:8080/",
          "height": 130
        }
      },
      "source": [
        "train.groupby('BOROUGH')['SALE_PRICE'].mean()"
      ],
      "execution_count": 181,
      "outputs": [
        {
          "output_type": "execute_result",
          "data": {
            "text/plain": [
              "BOROUGH\n",
              "1    2.591269e+06\n",
              "2    2.793887e+05\n",
              "3    8.212007e+05\n",
              "4    1.184977e+06\n",
              "5    2.467353e+05\n",
              "Name: SALE_PRICE, dtype: float64"
            ]
          },
          "metadata": {
            "tags": []
          },
          "execution_count": 181
        }
      ]
    },
    {
      "cell_type": "code",
      "metadata": {
        "id": "CgZ-c0fwFmAU",
        "colab_type": "code",
        "outputId": "2e50dbd3-cee7-489d-e670-803d0e628223",
        "colab": {
          "base_uri": "https://localhost:8080/",
          "height": 216
        }
      },
      "source": [
        "train.groupby('BOROUGH')['SALE_PRICE'].describe()"
      ],
      "execution_count": 182,
      "outputs": [
        {
          "output_type": "execute_result",
          "data": {
            "text/html": [
              "<div>\n",
              "<style scoped>\n",
              "    .dataframe tbody tr th:only-of-type {\n",
              "        vertical-align: middle;\n",
              "    }\n",
              "\n",
              "    .dataframe tbody tr th {\n",
              "        vertical-align: top;\n",
              "    }\n",
              "\n",
              "    .dataframe thead th {\n",
              "        text-align: right;\n",
              "    }\n",
              "</style>\n",
              "<table border=\"1\" class=\"dataframe\">\n",
              "  <thead>\n",
              "    <tr style=\"text-align: right;\">\n",
              "      <th></th>\n",
              "      <th>count</th>\n",
              "      <th>mean</th>\n",
              "      <th>std</th>\n",
              "      <th>min</th>\n",
              "      <th>25%</th>\n",
              "      <th>50%</th>\n",
              "      <th>75%</th>\n",
              "      <th>max</th>\n",
              "    </tr>\n",
              "    <tr>\n",
              "      <th>BOROUGH</th>\n",
              "      <th></th>\n",
              "      <th></th>\n",
              "      <th></th>\n",
              "      <th></th>\n",
              "      <th></th>\n",
              "      <th></th>\n",
              "      <th></th>\n",
              "      <th></th>\n",
              "    </tr>\n",
              "  </thead>\n",
              "  <tbody>\n",
              "    <tr>\n",
              "      <th>1</th>\n",
              "      <td>1797.0</td>\n",
              "      <td>2.591269e+06</td>\n",
              "      <td>9.796041e+06</td>\n",
              "      <td>0.0</td>\n",
              "      <td>0.0</td>\n",
              "      <td>950000.0</td>\n",
              "      <td>2316949.0</td>\n",
              "      <td>239958219.0</td>\n",
              "    </tr>\n",
              "    <tr>\n",
              "      <th>2</th>\n",
              "      <td>151.0</td>\n",
              "      <td>2.793887e+05</td>\n",
              "      <td>9.345211e+05</td>\n",
              "      <td>0.0</td>\n",
              "      <td>69250.0</td>\n",
              "      <td>175000.0</td>\n",
              "      <td>287500.0</td>\n",
              "      <td>11500000.0</td>\n",
              "    </tr>\n",
              "    <tr>\n",
              "      <th>3</th>\n",
              "      <td>1241.0</td>\n",
              "      <td>8.212007e+05</td>\n",
              "      <td>1.457413e+06</td>\n",
              "      <td>0.0</td>\n",
              "      <td>10.0</td>\n",
              "      <td>629279.0</td>\n",
              "      <td>998000.0</td>\n",
              "      <td>28028095.0</td>\n",
              "    </tr>\n",
              "    <tr>\n",
              "      <th>4</th>\n",
              "      <td>656.0</td>\n",
              "      <td>1.184977e+06</td>\n",
              "      <td>6.676916e+06</td>\n",
              "      <td>0.0</td>\n",
              "      <td>30315.0</td>\n",
              "      <td>472500.0</td>\n",
              "      <td>748810.5</td>\n",
              "      <td>75000000.0</td>\n",
              "    </tr>\n",
              "    <tr>\n",
              "      <th>5</th>\n",
              "      <td>95.0</td>\n",
              "      <td>2.467353e+05</td>\n",
              "      <td>1.493933e+05</td>\n",
              "      <td>0.0</td>\n",
              "      <td>207449.0</td>\n",
              "      <td>260000.0</td>\n",
              "      <td>350000.0</td>\n",
              "      <td>610849.0</td>\n",
              "    </tr>\n",
              "  </tbody>\n",
              "</table>\n",
              "</div>"
            ],
            "text/plain": [
              "          count          mean           std  ...       50%        75%          max\n",
              "BOROUGH                                      ...                                  \n",
              "1        1797.0  2.591269e+06  9.796041e+06  ...  950000.0  2316949.0  239958219.0\n",
              "2         151.0  2.793887e+05  9.345211e+05  ...  175000.0   287500.0   11500000.0\n",
              "3        1241.0  8.212007e+05  1.457413e+06  ...  629279.0   998000.0   28028095.0\n",
              "4         656.0  1.184977e+06  6.676916e+06  ...  472500.0   748810.5   75000000.0\n",
              "5          95.0  2.467353e+05  1.493933e+05  ...  260000.0   350000.0     610849.0\n",
              "\n",
              "[5 rows x 8 columns]"
            ]
          },
          "metadata": {
            "tags": []
          },
          "execution_count": 182
        }
      ]
    },
    {
      "cell_type": "code",
      "metadata": {
        "id": "efyUQAd4Fu9R",
        "colab_type": "code",
        "colab": {}
      },
      "source": [
        "# Data you want to drop includes target and high cardinality\n",
        "target = 'SALE_PRICE'\n",
        "high_cardinality = ['SALE_DATE','BUILDING_CLASS_AT_PRESENT','BUILDING_CLASS_AT_TIME_OF_SALE','APARTMENT_NUMBER','LAND_SQUARE_FEET','ADDRESS','YEAR_BUILT']\n",
        "features = train.columns.drop([target] + high_cardinality)"
      ],
      "execution_count": 0,
      "outputs": []
    },
    {
      "cell_type": "code",
      "metadata": {
        "id": "fMTU4LZRGdwv",
        "colab_type": "code",
        "colab": {}
      },
      "source": [
        "# Drop df columns into test and train\n",
        "X_train = train[features]\n",
        "y_train = train[target]\n",
        "X_test = test[features]\n",
        "y_test = test[target]"
      ],
      "execution_count": 0,
      "outputs": []
    },
    {
      "cell_type": "code",
      "metadata": {
        "id": "qgFbWFbvuinT",
        "colab_type": "code",
        "colab": {
          "base_uri": "https://localhost:8080/",
          "height": 34
        },
        "outputId": "4a8c087a-c5fe-4883-ada6-3a751ab911ce"
      },
      "source": [
        "X_train.shape"
      ],
      "execution_count": 185,
      "outputs": [
        {
          "output_type": "execute_result",
          "data": {
            "text/plain": [
              "(3940, 12)"
            ]
          },
          "metadata": {
            "tags": []
          },
          "execution_count": 185
        }
      ]
    },
    {
      "cell_type": "code",
      "metadata": {
        "id": "kUYJ_7zIukop",
        "colab_type": "code",
        "colab": {
          "base_uri": "https://localhost:8080/",
          "height": 34
        },
        "outputId": "bef09d3e-0659-4c42-f6b4-8b506cd22217"
      },
      "source": [
        "X_test.shape"
      ],
      "execution_count": 186,
      "outputs": [
        {
          "output_type": "execute_result",
          "data": {
            "text/plain": [
              "(1176, 12)"
            ]
          },
          "metadata": {
            "tags": []
          },
          "execution_count": 186
        }
      ]
    },
    {
      "cell_type": "code",
      "metadata": {
        "id": "Ef_H9iDPHbfk",
        "colab_type": "code",
        "colab": {}
      },
      "source": [
        "# TODO\n",
        "import category_encoders as ce\n",
        "encoder = ce.OneHotEncoder(use_cat_names=True)\n",
        "X_train = encoder.fit_transform(X_train)"
      ],
      "execution_count": 0,
      "outputs": []
    },
    {
      "cell_type": "code",
      "metadata": {
        "id": "t5vWYECnwcIt",
        "colab_type": "code",
        "colab": {}
      },
      "source": [
        "X_test = encoder.transform(X_test)"
      ],
      "execution_count": 0,
      "outputs": []
    },
    {
      "cell_type": "code",
      "metadata": {
        "id": "bWeOYRRMv7tw",
        "colab_type": "code",
        "colab": {
          "base_uri": "https://localhost:8080/",
          "height": 34
        },
        "outputId": "b970a5e7-18c3-4524-8de9-a4e4ab401369"
      },
      "source": [
        "X_train.shape"
      ],
      "execution_count": 189,
      "outputs": [
        {
          "output_type": "execute_result",
          "data": {
            "text/plain": [
              "(3940, 54)"
            ]
          },
          "metadata": {
            "tags": []
          },
          "execution_count": 189
        }
      ]
    },
    {
      "cell_type": "code",
      "metadata": {
        "id": "FRw1qO52v_Dn",
        "colab_type": "code",
        "colab": {
          "base_uri": "https://localhost:8080/",
          "height": 34
        },
        "outputId": "e27e9bf1-1218-49b0-b04f-ddf2e958a9b6"
      },
      "source": [
        "X_test.shape"
      ],
      "execution_count": 190,
      "outputs": [
        {
          "output_type": "execute_result",
          "data": {
            "text/plain": [
              "(1176, 54)"
            ]
          },
          "metadata": {
            "tags": []
          },
          "execution_count": 190
        }
      ]
    },
    {
      "cell_type": "markdown",
      "metadata": {
        "id": "9hZ3nfHfJEI3",
        "colab_type": "text"
      },
      "source": [
        "## Do feature selection with SelectKBest##"
      ]
    },
    {
      "cell_type": "code",
      "metadata": {
        "id": "hg5o07RD1bf7",
        "colab_type": "code",
        "colab": {
          "base_uri": "https://localhost:8080/",
          "height": 34
        },
        "outputId": "c6c9f470-9f86-4b47-e440-70174578e47b"
      },
      "source": [
        "X_train.shape, X_test.shape"
      ],
      "execution_count": 191,
      "outputs": [
        {
          "output_type": "execute_result",
          "data": {
            "text/plain": [
              "((3940, 54), (1176, 54))"
            ]
          },
          "metadata": {
            "tags": []
          },
          "execution_count": 191
        }
      ]
    },
    {
      "cell_type": "code",
      "metadata": {
        "id": "faRSStvMuMKR",
        "colab_type": "code",
        "colab": {
          "base_uri": "https://localhost:8080/",
          "height": 34
        },
        "outputId": "2b056392-9514-4929-94b8-8885362e6211"
      },
      "source": [
        "# TODO: Select the 15 features that best correlate with the target\n",
        "# (15 is an arbitrary starting point here)\n",
        "from sklearn.feature_selection import SelectKBest, f_regression\n",
        "\n",
        "# SelectKBest has a similar API to what we've seen before.\n",
        "selector = SelectKBest(score_func=f_regression, k=15)\n",
        "\n",
        "# IMPORTANT!\n",
        "# .fit_transform on the train set\n",
        "# .transform on test set\n",
        "X_train_selected = selector.fit_transform(X_train, y_train)\n",
        "X_test_selected = selector.transform(X_test)\n",
        "X_train_selected.shape, X_test_selected.shape"
      ],
      "execution_count": 193,
      "outputs": [
        {
          "output_type": "execute_result",
          "data": {
            "text/plain": [
              "((3940, 15), (1176, 15))"
            ]
          },
          "metadata": {
            "tags": []
          },
          "execution_count": 193
        }
      ]
    },
    {
      "cell_type": "code",
      "metadata": {
        "id": "w4MCvT402WWr",
        "colab_type": "code",
        "colab": {
          "base_uri": "https://localhost:8080/",
          "height": 930
        },
        "outputId": "2637216a-b4b5-425c-de26-7af113850e9c"
      },
      "source": [
        "# TODO: Which features were selected?\n",
        "selected_mask = selector.get_support()\n",
        "all_names = X_train.columns\n",
        "selected_names = all_names[selected_mask]\n",
        "unselected_names = all_names[~selected_mask]\n",
        "\n",
        "print('Features selected:')\n",
        "for name in selected_names:\n",
        "    print(name)\n",
        "\n",
        "print('\\nFeatures not selected:')\n",
        "for name in unselected_names:\n",
        "    print(name)"
      ],
      "execution_count": 194,
      "outputs": [
        {
          "output_type": "stream",
          "text": [
            "Features selected:\n",
            "BOROUGH_1\n",
            "BOROUGH_3\n",
            "NEIGHBORHOOD_UPPER EAST SIDE (59-79)\n",
            "NEIGHBORHOOD_ASTORIA\n",
            "BUILDING_CLASS_CATEGORY_45 CONDO HOTELS\n",
            "BUILDING_CLASS_CATEGORY_08 RENTALS - ELEVATOR APARTMENTS\n",
            "BUILDING_CLASS_CATEGORY_11A CONDO-RENTALS\n",
            "BUILDING_CLASS_CATEGORY_28 COMMERCIAL CONDOS\n",
            "BLOCK\n",
            "ZIP_CODE\n",
            "RESIDENTIAL_UNITS\n",
            "COMMERCIAL_UNITS\n",
            "TOTAL_UNITS\n",
            "GROSS_SQUARE_FEET\n",
            "TAX_CLASS_AT_TIME_OF_SALE\n",
            "\n",
            "Features not selected:\n",
            "BOROUGH_4\n",
            "BOROUGH_5\n",
            "BOROUGH_2\n",
            "NEIGHBORHOOD_OTHER\n",
            "NEIGHBORHOOD_UPPER EAST SIDE (79-96)\n",
            "NEIGHBORHOOD_UPPER WEST SIDE (59-79)\n",
            "NEIGHBORHOOD_UPPER WEST SIDE (79-96)\n",
            "NEIGHBORHOOD_FLUSHING-NORTH\n",
            "NEIGHBORHOOD_GRAMERCY\n",
            "NEIGHBORHOOD_BOROUGH PARK\n",
            "NEIGHBORHOOD_BEDFORD STUYVESANT\n",
            "NEIGHBORHOOD_FOREST HILLS\n",
            "BUILDING_CLASS_CATEGORY_13 CONDOS - ELEVATOR APARTMENTS\n",
            "BUILDING_CLASS_CATEGORY_15 CONDOS - 2-10 UNIT RESIDENTIAL\n",
            "BUILDING_CLASS_CATEGORY_07 RENTALS - WALKUP APARTMENTS\n",
            "BUILDING_CLASS_CATEGORY_44 CONDO PARKING\n",
            "BUILDING_CLASS_CATEGORY_47 CONDO NON-BUSINESS STORAGE\n",
            "BUILDING_CLASS_CATEGORY_12 CONDOS - WALKUP APARTMENTS\n",
            "BUILDING_CLASS_CATEGORY_43 CONDO OFFICE BUILDINGS\n",
            "BUILDING_CLASS_CATEGORY_04 TAX CLASS 1 CONDOS\n",
            "BUILDING_CLASS_CATEGORY_02 TWO FAMILY DWELLINGS\n",
            "BUILDING_CLASS_CATEGORY_46 CONDO STORE BUILDINGS\n",
            "BUILDING_CLASS_CATEGORY_03 THREE FAMILY DWELLINGS\n",
            "BUILDING_CLASS_CATEGORY_14 RENTALS - 4-10 UNIT\n",
            "BUILDING_CLASS_CATEGORY_32 HOSPITAL AND HEALTH FACILITIES\n",
            "BUILDING_CLASS_CATEGORY_49 CONDO WAREHOUSES/FACTORY/INDUS\n",
            "BUILDING_CLASS_CATEGORY_16 CONDOS - 2-10 UNIT WITH COMMERCIAL UNIT\n",
            "BUILDING_CLASS_CATEGORY_01 ONE FAMILY DWELLINGS\n",
            "BUILDING_CLASS_CATEGORY_26 OTHER HOTELS\n",
            "BUILDING_CLASS_CATEGORY_48 CONDO TERRACES/GARDENS/CABANAS\n",
            "TAX_CLASS_AT_PRESENT_2\n",
            "TAX_CLASS_AT_PRESENT_2C\n",
            "TAX_CLASS_AT_PRESENT_2B\n",
            "TAX_CLASS_AT_PRESENT_4\n",
            "TAX_CLASS_AT_PRESENT_1A\n",
            "TAX_CLASS_AT_PRESENT_2A\n",
            "TAX_CLASS_AT_PRESENT_1C\n",
            "TAX_CLASS_AT_PRESENT_1\n",
            "LOT\n"
          ],
          "name": "stdout"
        }
      ]
    },
    {
      "cell_type": "code",
      "metadata": {
        "id": "dtUYjaX-2hpF",
        "colab_type": "code",
        "colab": {
          "base_uri": "https://localhost:8080/",
          "height": 1000
        },
        "outputId": "884cc88c-c624-4ce9-90de-b9cf97683c82"
      },
      "source": [
        "from sklearn.linear_model import LinearRegression\n",
        "from sklearn.metrics import mean_absolute_error\n",
        "\n",
        "for k in range(1, len(X_train.columns)+1):\n",
        "    print(f'{k} features')\n",
        "\n",
        "    selector = SelectKBest(score_func=f_regression, k=k)\n",
        "    X_train_selected = selector.fit_transform(X_train, y_train)\n",
        "    X_test_selected = selector.transform(X_test)\n",
        "\n",
        "    model = LinearRegression()\n",
        "    model.fit(X_train_selected, y_train)\n",
        "    y_pred = model.predict(X_test_selected)\n",
        "    mae = mean_absolute_error(y_test, y_pred)\n",
        "    print(f'Test Mean Absolute Error: ${mae:,.0f} \\n')"
      ],
      "execution_count": 210,
      "outputs": [
        {
          "output_type": "stream",
          "text": [
            "1 features\n",
            "Test Mean Absolute Error: $2,644,945 \n",
            "\n",
            "2 features\n",
            "Test Mean Absolute Error: $2,650,697 \n",
            "\n",
            "3 features\n",
            "Test Mean Absolute Error: $2,615,257 \n",
            "\n",
            "4 features\n",
            "Test Mean Absolute Error: $2,686,791 \n",
            "\n",
            "5 features\n",
            "Test Mean Absolute Error: $2,612,083 \n",
            "\n",
            "6 features\n",
            "Test Mean Absolute Error: $2,608,664 \n",
            "\n",
            "7 features\n",
            "Test Mean Absolute Error: $2,607,562 \n",
            "\n",
            "8 features\n",
            "Test Mean Absolute Error: $2,668,888 \n",
            "\n",
            "9 features\n",
            "Test Mean Absolute Error: $2,682,128 \n",
            "\n",
            "10 features\n",
            "Test Mean Absolute Error: $2,694,247 \n",
            "\n",
            "11 features\n",
            "Test Mean Absolute Error: $2,677,164 \n",
            "\n",
            "12 features\n",
            "Test Mean Absolute Error: $2,685,935 \n",
            "\n",
            "13 features\n",
            "Test Mean Absolute Error: $2,685,013 \n",
            "\n",
            "14 features\n",
            "Test Mean Absolute Error: $2,686,847 \n",
            "\n",
            "15 features\n",
            "Test Mean Absolute Error: $2,704,829 \n",
            "\n",
            "16 features\n",
            "Test Mean Absolute Error: $2,706,277 \n",
            "\n",
            "17 features\n",
            "Test Mean Absolute Error: $2,706,279 \n",
            "\n",
            "18 features\n",
            "Test Mean Absolute Error: $2,705,775 \n",
            "\n",
            "19 features\n",
            "Test Mean Absolute Error: $2,707,073 \n",
            "\n",
            "20 features\n",
            "Test Mean Absolute Error: $2,709,462 \n",
            "\n",
            "21 features\n",
            "Test Mean Absolute Error: $2,716,968 \n",
            "\n",
            "22 features\n",
            "Test Mean Absolute Error: $2,759,775 \n",
            "\n",
            "23 features\n",
            "Test Mean Absolute Error: $2,759,261 \n",
            "\n",
            "24 features\n",
            "Test Mean Absolute Error: $2,759,261 \n",
            "\n",
            "25 features\n",
            "Test Mean Absolute Error: $2,757,503 \n",
            "\n",
            "26 features\n",
            "Test Mean Absolute Error: $2,756,260 \n",
            "\n",
            "27 features\n",
            "Test Mean Absolute Error: $2,750,228 \n",
            "\n",
            "28 features\n",
            "Test Mean Absolute Error: $2,749,594 \n",
            "\n",
            "29 features\n",
            "Test Mean Absolute Error: $2,749,639 \n",
            "\n",
            "30 features\n",
            "Test Mean Absolute Error: $2,750,937 \n",
            "\n",
            "31 features\n",
            "Test Mean Absolute Error: $2,763,850 \n",
            "\n",
            "32 features\n",
            "Test Mean Absolute Error: $2,760,876 \n",
            "\n",
            "33 features\n",
            "Test Mean Absolute Error: $2,761,263 \n",
            "\n",
            "34 features\n",
            "Test Mean Absolute Error: $2,811,065 \n",
            "\n",
            "35 features\n",
            "Test Mean Absolute Error: $2,811,031 \n",
            "\n",
            "36 features\n",
            "Test Mean Absolute Error: $2,813,887 \n",
            "\n",
            "37 features\n",
            "Test Mean Absolute Error: $2,816,640 \n",
            "\n",
            "38 features\n",
            "Test Mean Absolute Error: $2,822,184 \n",
            "\n",
            "39 features\n",
            "Test Mean Absolute Error: $2,822,184 \n",
            "\n",
            "40 features\n",
            "Test Mean Absolute Error: $2,833,797 \n",
            "\n",
            "41 features\n",
            "Test Mean Absolute Error: $2,834,983 \n",
            "\n",
            "42 features\n",
            "Test Mean Absolute Error: $2,837,893 \n",
            "\n",
            "43 features\n",
            "Test Mean Absolute Error: $2,838,193 \n",
            "\n",
            "44 features\n",
            "Test Mean Absolute Error: $2,837,286 \n",
            "\n",
            "45 features\n",
            "Test Mean Absolute Error: $2,837,397 \n",
            "\n",
            "46 features\n",
            "Test Mean Absolute Error: $2,837,532 \n",
            "\n",
            "47 features\n",
            "Test Mean Absolute Error: $2,837,532 \n",
            "\n",
            "48 features\n",
            "Test Mean Absolute Error: $2,836,072 \n",
            "\n",
            "49 features\n",
            "Test Mean Absolute Error: $2,836,448 \n",
            "\n",
            "50 features\n",
            "Test Mean Absolute Error: $2,836,448 \n",
            "\n",
            "51 features\n",
            "Test Mean Absolute Error: $2,836,448 \n",
            "\n",
            "52 features\n",
            "Test Mean Absolute Error: $2,836,435 \n",
            "\n",
            "53 features\n",
            "Test Mean Absolute Error: $2,836,435 \n",
            "\n",
            "54 features\n",
            "Test Mean Absolute Error: $2,836,435 \n",
            "\n"
          ],
          "name": "stdout"
        }
      ]
    }
  ]
}